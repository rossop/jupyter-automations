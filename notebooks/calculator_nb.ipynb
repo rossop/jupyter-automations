{
 "cells": [
  {
   "cell_type": "code",
   "execution_count": 2,
   "id": "e2566f62-9865-4f2c-832e-e4ed31deedf9",
   "metadata": {},
   "outputs": [],
   "source": [
    "class Calculator:\n",
    "    \"\"\"\n",
    "    A simple calculator class that allows for basic arithmetic operations.\n",
    "\n",
    "    Attributes:\n",
    "        val (int/float): The current value stored in the calculator.\n",
    "\n",
    "    Methods:\n",
    "        add(b): Adds a number to the current value.\n",
    "    \"\"\"\n",
    "\n",
    "    def __init__(self, a):\n",
    "        \"\"\"\n",
    "        Initialises a new instance of the Calculator with a specified value.\n",
    "\n",
    "        Parameters:\n",
    "            a (int/float): The initial value to store in the calculator.\n",
    "        \"\"\"\n",
    "        self.val = a\n",
    "\n",
    "    def add(self, b):\n",
    "        \"\"\"\n",
    "        Adds a number to the calculator's current value.\n",
    "\n",
    "        Parameters:\n",
    "            b (int/float): The number to be added to the current value.\n",
    "        \"\"\"\n",
    "        self.val += b\n",
    "        \n",
    "    def __str__(self):\n",
    "        \"\"\"\n",
    "        Returns a string representation of the calculator instance.\n",
    "\n",
    "        Returns:\n",
    "            str: A descriptive string indicating the current value of the calculator.\n",
    "        \"\"\"\n",
    "        return f\"Calculator instance with value = {self.val}\"\n",
    "\n",
    "    def __repr__(self):\n",
    "        \"\"\"\n",
    "        Returns an official string representation of the calculator instance.\n",
    "\n",
    "        Returns:\n",
    "            str: A string that can be used to recreate the calculator instance.\n",
    "        \"\"\"\n",
    "        return f\"Calculator({self.val})\""
   ]
  },
  {
   "cell_type": "code",
   "execution_count": 10,
   "id": "bfa620cf",
   "metadata": {},
   "outputs": [
    {
     "name": "stdout",
     "output_type": "stream",
     "text": [
      "Calculator instance with value = 7\n"
     ]
    },
    {
     "data": {
      "text/plain": [
       "'Calculator(7)'"
      ]
     },
     "execution_count": 10,
     "metadata": {},
     "output_type": "execute_result"
    }
   ],
   "source": [
    "calc = Calculator(5)\n",
    "calc.add(2)\n",
    "print(calc)\n",
    "repr(calc)"
   ]
  }
 ],
 "metadata": {
  "kernelspec": {
   "display_name": "Python 3 (ipykernel)",
   "language": "python",
   "name": "python3"
  },
  "language_info": {
   "codemirror_mode": {
    "name": "ipython",
    "version": 3
   },
   "file_extension": ".py",
   "mimetype": "text/x-python",
   "name": "python",
   "nbconvert_exporter": "python",
   "pygments_lexer": "ipython3",
   "version": "3.10.8"
  }
 },
 "nbformat": 4,
 "nbformat_minor": 5
}
